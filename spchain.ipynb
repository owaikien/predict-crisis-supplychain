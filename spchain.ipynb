{
 "cells": [
  {
   "attachments": {},
   "cell_type": "markdown",
   "metadata": {},
   "source": [
    "The aim in terms of technological wise here is to create a disruption prediction model using [Twitter Datasets from Crises](https://crisisnlp.qcri.org/lrec2016/lrec2016.html), from a business problem stand point we wanted to see the model's reaction time - in other words mean see how quickly the model could predict a disruption after a crisis has happened"
   ]
  },
  {
   "cell_type": "code",
   "execution_count": 1,
   "metadata": {},
   "outputs": [],
   "source": [
    "import pandas as pd\n",
    "import os "
   ]
  },
  {
   "attachments": {},
   "cell_type": "markdown",
   "metadata": {},
   "source": [
    "### Loading data"
   ]
  },
  {
   "attachments": {},
   "cell_type": "markdown",
   "metadata": {},
   "source": [
    "Load labeled data annotated by paid workers"
   ]
  },
  {
   "cell_type": "code",
   "execution_count": 238,
   "metadata": {},
   "outputs": [],
   "source": [
    "os.chdir(\"..\")\n",
    "os.chdir(\"CrisisNLP_labeled_data_crowdflower\")"
   ]
  },
  {
   "cell_type": "code",
   "execution_count": 239,
   "metadata": {},
   "outputs": [],
   "source": [
    "# List of data folders\n",
    "folders = ['2015_Nepal_Earthquake_en',\n",
    " '2015_Cyclone_Pam_en',\n",
    " '2014_Middle_East_Respiratory_Syndrome_en',\n",
    " '2014_India_floods',\n",
    " '2014_Pakistan_floods',\n",
    " '2014_ebola_cf',\n",
    " '2014_California_Earthquake',\n",
    " '2013_Pakistan_eq',\n",
    " '2014_Hurricane_Odile_Mexico_en',\n",
    " '2014_Chile_Earthquake_en',\n",
    " '2014_Philippines_Typhoon_Hagupit_en']\n",
    "\n",
    "# Intialize one dataframe\n",
    "all_data_paid = pd.DataFrame()\n",
    "\n",
    "# Loop over each folder and file\n",
    "for folder in folders:\n",
    "    for file in os.listdir(folder):\n",
    "\n",
    "        if file.endswith(\".tsv\"):\n",
    "            # Load the data from file\n",
    "            file_data = pd.read_csv(os.path.join(folder, file), sep=\"\\t\")\n",
    "                        \n",
    "            # concat all the data\n",
    "            all_data_paid = pd.concat([all_data_paid, file_data])"
   ]
  },
  {
   "attachments": {},
   "cell_type": "markdown",
   "metadata": {},
   "source": [
    "Load data annotated by volunteers"
   ]
  },
  {
   "cell_type": "code",
   "execution_count": 51,
   "metadata": {},
   "outputs": [],
   "source": [
    "os.chdir(\"..\")\n",
    "os.chdir(\"CrisisNLP_volunteers_labeled_data\")"
   ]
  },
  {
   "cell_type": "code",
   "execution_count": 55,
   "metadata": {},
   "outputs": [],
   "source": [
    "# list all folders\n",
    "folders = ['2015_Nepal_Earthquake_en',\n",
    " '2014_Iceland_Volcano_en',\n",
    " '2015_Cyclone_Pam_en',\n",
    " '2014_Middle_East_Respiratory_Syndrome_en',\n",
    " 'Landslides_Worldwide_en',\n",
    " '2014_California_Earthquake',\n",
    " '2014_Hurricane_Odile_Mexico_en',\n",
    " '2014_Malaysia_Airline_MH370_en',\n",
    " '2014_Chile_Earthquake_en',\n",
    " '2014_Philippines_Typhoon_Hagupit_en']\n",
    "\n",
    "# Load data and concat them into a dataframe\n",
    "all_data_volunteers = pd.DataFrame()\n",
    "\n",
    "for folder in folders:\n",
    "    for file in os.listdir(folder):\n",
    "        if file.endswith(\".csv\"):\n",
    "            # somehow 'utf-8' encoding doesn't work here\n",
    "            file_data = pd.read_csv(os.path.join(folder, file), encoding='ISO-8859-1')\n",
    "\n",
    "            all_data_volunteers = pd.concat([all_data_volunteers, file_data])"
   ]
  },
  {
   "attachments": {},
   "cell_type": "markdown",
   "metadata": {},
   "source": [
    "### Data Exploration"
   ]
  },
  {
   "cell_type": "code",
   "execution_count": 240,
   "metadata": {},
   "outputs": [
    {
     "name": "stdout",
     "output_type": "stream",
     "text": [
      "Shape of paid labeled dataset: (20514, 3)\n"
     ]
    },
    {
     "data": {
      "text/html": [
       "<div>\n",
       "<style scoped>\n",
       "    .dataframe tbody tr th:only-of-type {\n",
       "        vertical-align: middle;\n",
       "    }\n",
       "\n",
       "    .dataframe tbody tr th {\n",
       "        vertical-align: top;\n",
       "    }\n",
       "\n",
       "    .dataframe thead th {\n",
       "        text-align: right;\n",
       "    }\n",
       "</style>\n",
       "<table border=\"1\" class=\"dataframe\">\n",
       "  <thead>\n",
       "    <tr style=\"text-align: right;\">\n",
       "      <th></th>\n",
       "      <th>tweet_id</th>\n",
       "      <th>tweet_text</th>\n",
       "      <th>label</th>\n",
       "    </tr>\n",
       "  </thead>\n",
       "  <tbody>\n",
       "    <tr>\n",
       "      <th>0</th>\n",
       "      <td>'592326564110585856'</td>\n",
       "      <td>RT @divyaconnects: Reached #Kathmandu finally!...</td>\n",
       "      <td>other_useful_information</td>\n",
       "    </tr>\n",
       "    <tr>\n",
       "      <th>1</th>\n",
       "      <td>'592616512642420737'</td>\n",
       "      <td>fears for Foreigners missing in Nepal earthqua...</td>\n",
       "      <td>missing_trapped_or_found_people</td>\n",
       "    </tr>\n",
       "    <tr>\n",
       "      <th>2</th>\n",
       "      <td>'592686635520827393'</td>\n",
       "      <td>RT @ParisBurned: 3,700 people dead is absolute...</td>\n",
       "      <td>injured_or_dead_people</td>\n",
       "    </tr>\n",
       "    <tr>\n",
       "      <th>3</th>\n",
       "      <td>'593301431366635520'</td>\n",
       "      <td>Earthquake in Nepal - Please help Kapil #crowd...</td>\n",
       "      <td>donation_needs_or_offers_or_volunteering_services</td>\n",
       "    </tr>\n",
       "    <tr>\n",
       "      <th>4</th>\n",
       "      <td>'592590231519555584'</td>\n",
       "      <td>Nepal’s Slowing Economy Set for Freefall Witho...</td>\n",
       "      <td>other_useful_information</td>\n",
       "    </tr>\n",
       "  </tbody>\n",
       "</table>\n",
       "</div>"
      ],
      "text/plain": [
       "               tweet_id                                         tweet_text  \\\n",
       "0  '592326564110585856'  RT @divyaconnects: Reached #Kathmandu finally!...   \n",
       "1  '592616512642420737'  fears for Foreigners missing in Nepal earthqua...   \n",
       "2  '592686635520827393'  RT @ParisBurned: 3,700 people dead is absolute...   \n",
       "3  '593301431366635520'  Earthquake in Nepal - Please help Kapil #crowd...   \n",
       "4  '592590231519555584'  Nepal’s Slowing Economy Set for Freefall Witho...   \n",
       "\n",
       "                                               label  \n",
       "0                           other_useful_information  \n",
       "1                    missing_trapped_or_found_people  \n",
       "2                             injured_or_dead_people  \n",
       "3  donation_needs_or_offers_or_volunteering_services  \n",
       "4                           other_useful_information  "
      ]
     },
     "execution_count": 240,
     "metadata": {},
     "output_type": "execute_result"
    }
   ],
   "source": [
    "# Paid labeled dataset\n",
    "print(f'Shape of paid labeled dataset: {all_data_paid.shape}')\n",
    "all_data_paid.head()"
   ]
  },
  {
   "attachments": {},
   "cell_type": "markdown",
   "metadata": {},
   "source": [
    "## NOT USING THE DATASET BELOW"
   ]
  },
  {
   "cell_type": "code",
   "execution_count": 59,
   "metadata": {},
   "outputs": [
    {
     "name": "stdout",
     "output_type": "stream",
     "text": [
      "Shape of volunteer labeled dataset: (25976, 10)\n"
     ]
    },
    {
     "data": {
      "text/html": [
       "<div>\n",
       "<style scoped>\n",
       "    .dataframe tbody tr th:only-of-type {\n",
       "        vertical-align: middle;\n",
       "    }\n",
       "\n",
       "    .dataframe tbody tr th {\n",
       "        vertical-align: top;\n",
       "    }\n",
       "\n",
       "    .dataframe thead th {\n",
       "        text-align: right;\n",
       "    }\n",
       "</style>\n",
       "<table border=\"1\" class=\"dataframe\">\n",
       "  <thead>\n",
       "    <tr style=\"text-align: right;\">\n",
       "      <th></th>\n",
       "      <th>tweet_id</th>\n",
       "      <th>tweet_time</th>\n",
       "      <th>tweet_author</th>\n",
       "      <th>tweet_author_id</th>\n",
       "      <th>tweet_language</th>\n",
       "      <th>tweet_lon</th>\n",
       "      <th>tweet_lat</th>\n",
       "      <th>tweet_text</th>\n",
       "      <th>tweet_url</th>\n",
       "      <th>label</th>\n",
       "    </tr>\n",
       "  </thead>\n",
       "  <tbody>\n",
       "    <tr>\n",
       "      <th>0</th>\n",
       "      <td>'591903085670215681'</td>\n",
       "      <td>Sat Apr 25 09:54:27 +0000 2015</td>\n",
       "      <td>Faali19</td>\n",
       "      <td>2387302745</td>\n",
       "      <td>en</td>\n",
       "      <td>73.547794</td>\n",
       "      <td>32.392816</td>\n",
       "      <td>Dua's for all those affected by the earthquake...</td>\n",
       "      <td>https://twitter.com/Faali19/status/59190308567...</td>\n",
       "      <td>Sympathy and emotional support</td>\n",
       "    </tr>\n",
       "    <tr>\n",
       "      <th>1</th>\n",
       "      <td>'591903104276234242'</td>\n",
       "      <td>Sat Apr 25 09:54:31 +0000 2015</td>\n",
       "      <td>STERLINGMHOLMES</td>\n",
       "      <td>153876973</td>\n",
       "      <td>en</td>\n",
       "      <td>NaN</td>\n",
       "      <td>NaN</td>\n",
       "      <td>itvnews: Witness to Nepal #earthquake tells it...</td>\n",
       "      <td>https://twitter.com/STERLINGMHOLMES/status/591...</td>\n",
       "      <td>Other relevant information</td>\n",
       "    </tr>\n",
       "    <tr>\n",
       "      <th>2</th>\n",
       "      <td>'591903131505659904'</td>\n",
       "      <td>Sat Apr 25 09:54:38 +0000 2015</td>\n",
       "      <td>HeenaliVP</td>\n",
       "      <td>421188281</td>\n",
       "      <td>en</td>\n",
       "      <td>NaN</td>\n",
       "      <td>NaN</td>\n",
       "      <td>Absolutely devastated by the destruction to my...</td>\n",
       "      <td>https://twitter.com/HeenaliVP/status/591903131...</td>\n",
       "      <td>Sympathy and emotional support</td>\n",
       "    </tr>\n",
       "    <tr>\n",
       "      <th>3</th>\n",
       "      <td>'591903330449907712'</td>\n",
       "      <td>Sat Apr 25 09:55:25 +0000 2015</td>\n",
       "      <td>Xennia79</td>\n",
       "      <td>176207969</td>\n",
       "      <td>en</td>\n",
       "      <td>NaN</td>\n",
       "      <td>NaN</td>\n",
       "      <td>Thoughts are with the families in #Nepal</td>\n",
       "      <td>https://twitter.com/Xennia79/status/5919033304...</td>\n",
       "      <td>Sympathy and emotional support</td>\n",
       "    </tr>\n",
       "    <tr>\n",
       "      <th>4</th>\n",
       "      <td>'591903857657151488'</td>\n",
       "      <td>Sat Apr 25 09:57:31 +0000 2015</td>\n",
       "      <td>Madhurita_</td>\n",
       "      <td>1058658786</td>\n",
       "      <td>en</td>\n",
       "      <td>NaN</td>\n",
       "      <td>NaN</td>\n",
       "      <td>Frightful images! Our prayers echo for everyon...</td>\n",
       "      <td>https://twitter.com/Madhurita_/status/59190385...</td>\n",
       "      <td>Sympathy and emotional support</td>\n",
       "    </tr>\n",
       "  </tbody>\n",
       "</table>\n",
       "</div>"
      ],
      "text/plain": [
       "               tweet_id                      tweet_time     tweet_author  \\\n",
       "0  '591903085670215681'  Sat Apr 25 09:54:27 +0000 2015          Faali19   \n",
       "1  '591903104276234242'  Sat Apr 25 09:54:31 +0000 2015  STERLINGMHOLMES   \n",
       "2  '591903131505659904'  Sat Apr 25 09:54:38 +0000 2015        HeenaliVP   \n",
       "3  '591903330449907712'  Sat Apr 25 09:55:25 +0000 2015         Xennia79   \n",
       "4  '591903857657151488'  Sat Apr 25 09:57:31 +0000 2015       Madhurita_   \n",
       "\n",
       "    tweet_author_id  tweet_language   tweet_lon   tweet_lat  \\\n",
       "0        2387302745              en   73.547794   32.392816   \n",
       "1         153876973              en         NaN         NaN   \n",
       "2         421188281              en         NaN         NaN   \n",
       "3         176207969              en         NaN         NaN   \n",
       "4        1058658786              en         NaN         NaN   \n",
       "\n",
       "                                          tweet_text  \\\n",
       "0  Dua's for all those affected by the earthquake...   \n",
       "1  itvnews: Witness to Nepal #earthquake tells it...   \n",
       "2  Absolutely devastated by the destruction to my...   \n",
       "3           Thoughts are with the families in #Nepal   \n",
       "4  Frightful images! Our prayers echo for everyon...   \n",
       "\n",
       "                                           tweet_url  \\\n",
       "0  https://twitter.com/Faali19/status/59190308567...   \n",
       "1  https://twitter.com/STERLINGMHOLMES/status/591...   \n",
       "2  https://twitter.com/HeenaliVP/status/591903131...   \n",
       "3  https://twitter.com/Xennia79/status/5919033304...   \n",
       "4  https://twitter.com/Madhurita_/status/59190385...   \n",
       "\n",
       "                            label  \n",
       "0  Sympathy and emotional support  \n",
       "1      Other relevant information  \n",
       "2  Sympathy and emotional support  \n",
       "3  Sympathy and emotional support  \n",
       "4  Sympathy and emotional support  "
      ]
     },
     "execution_count": 59,
     "metadata": {},
     "output_type": "execute_result"
    }
   ],
   "source": [
    "# Volunteer labeled dataset \n",
    "print(f'Shape of volunteer labeled dataset: {all_data_volunteers.shape}')\n",
    "all_data_volunteers.head()"
   ]
  },
  {
   "cell_type": "code",
   "execution_count": 62,
   "metadata": {},
   "outputs": [
    {
     "name": "stdout",
     "output_type": "stream",
     "text": [
      "tweet_id      0\n",
      "tweet_text    0\n",
      "label         0\n",
      "dtype: int64\n"
     ]
    },
    {
     "data": {
      "text/html": [
       "<div>\n",
       "<style scoped>\n",
       "    .dataframe tbody tr th:only-of-type {\n",
       "        vertical-align: middle;\n",
       "    }\n",
       "\n",
       "    .dataframe tbody tr th {\n",
       "        vertical-align: top;\n",
       "    }\n",
       "\n",
       "    .dataframe thead th {\n",
       "        text-align: right;\n",
       "    }\n",
       "</style>\n",
       "<table border=\"1\" class=\"dataframe\">\n",
       "  <thead>\n",
       "    <tr style=\"text-align: right;\">\n",
       "      <th></th>\n",
       "      <th>tweet_id</th>\n",
       "      <th>tweet_text</th>\n",
       "      <th>label</th>\n",
       "    </tr>\n",
       "  </thead>\n",
       "  <tbody>\n",
       "    <tr>\n",
       "      <th>count</th>\n",
       "      <td>20514</td>\n",
       "      <td>20514</td>\n",
       "      <td>20514</td>\n",
       "    </tr>\n",
       "    <tr>\n",
       "      <th>unique</th>\n",
       "      <td>20514</td>\n",
       "      <td>20514</td>\n",
       "      <td>15</td>\n",
       "    </tr>\n",
       "    <tr>\n",
       "      <th>top</th>\n",
       "      <td>'592326564110585856'</td>\n",
       "      <td>RT @divyaconnects: Reached #Kathmandu finally!...</td>\n",
       "      <td>other_useful_information</td>\n",
       "    </tr>\n",
       "    <tr>\n",
       "      <th>freq</th>\n",
       "      <td>1</td>\n",
       "      <td>1</td>\n",
       "      <td>6126</td>\n",
       "    </tr>\n",
       "  </tbody>\n",
       "</table>\n",
       "</div>"
      ],
      "text/plain": [
       "                    tweet_id  \\\n",
       "count                  20514   \n",
       "unique                 20514   \n",
       "top     '592326564110585856'   \n",
       "freq                       1   \n",
       "\n",
       "                                               tweet_text  \\\n",
       "count                                               20514   \n",
       "unique                                              20514   \n",
       "top     RT @divyaconnects: Reached #Kathmandu finally!...   \n",
       "freq                                                    1   \n",
       "\n",
       "                           label  \n",
       "count                      20514  \n",
       "unique                        15  \n",
       "top     other_useful_information  \n",
       "freq                        6126  "
      ]
     },
     "execution_count": 62,
     "metadata": {},
     "output_type": "execute_result"
    }
   ],
   "source": [
    "# Paid labeled dataset\n",
    "# Check for missing values\n",
    "print(all_data_paid.isnull().sum())\n",
    "\n",
    "# Check for some stats\n",
    "all_data_paid.describe()"
   ]
  },
  {
   "attachments": {},
   "cell_type": "markdown",
   "metadata": {},
   "source": [
    "No missing values, no duplicate values tweet_id/text, dataset looks clean!"
   ]
  },
  {
   "cell_type": "code",
   "execution_count": 71,
   "metadata": {},
   "outputs": [
    {
     "name": "stdout",
     "output_type": "stream",
     "text": [
      "tweet_id                0\n",
      " tweet_time             0\n",
      " tweet_author           0\n",
      " tweet_author_id        0\n",
      " tweet_language         0\n",
      " tweet_lon          22676\n",
      " tweet_lat          22676\n",
      " tweet_text             0\n",
      " tweet_url              0\n",
      "label                   0\n",
      "dtype: int64\n",
      "tweet_id            25965\n",
      " tweet_time         24938\n",
      " tweet_author       21263\n",
      " tweet_author_id    21245\n",
      " tweet_language         4\n",
      " tweet_lon           3019\n",
      " tweet_lat           3012\n",
      " tweet_text         25604\n",
      " tweet_url          25965\n",
      "label                  43\n",
      "dtype: int64\n"
     ]
    }
   ],
   "source": [
    "# Volunteer labeled dataset\n",
    "print(all_data_volunteers.isnull().sum())\n",
    "\n",
    "print(all_data_volunteers.nunique())"
   ]
  },
  {
   "attachments": {},
   "cell_type": "markdown",
   "metadata": {},
   "source": [
    "#### Labels Explore"
   ]
  },
  {
   "cell_type": "code",
   "execution_count": 241,
   "metadata": {},
   "outputs": [
    {
     "name": "stdout",
     "output_type": "stream",
     "text": [
      "Paid labeled data:\n",
      " other_useful_information                             0.298625\n",
      "not_related_or_irrelevant                            0.120503\n",
      "donation_needs_or_offers_or_volunteering_services    0.119528\n",
      "injured_or_dead_people                               0.113142\n",
      "sympathy_and_emotional_support                       0.091986\n",
      "infrastructure_and_utilities_damage                  0.067954\n",
      "caution_and_advice                                   0.049283\n",
      "affected_people                                      0.026860\n",
      "displaced_people_and_evacuations                     0.026665\n",
      "missing_trapped_or_found_people                      0.018280\n",
      "treatment                                            0.018036\n",
      "disease_signs_or_symptoms                            0.016867\n",
      "disease_transmission                                 0.016379\n",
      "prevention                                           0.012333\n",
      "deaths_reports                                       0.003559\n",
      "Name: label, dtype: float64\n"
     ]
    }
   ],
   "source": [
    "# Explore the labels\n",
    "# Paid labeled data\n",
    "print(f\"Paid labeled data:\\n {all_data_paid['label'].value_counts(normalize=True)}\")"
   ]
  },
  {
   "cell_type": "code",
   "execution_count": 270,
   "metadata": {},
   "outputs": [
    {
     "name": "stdout",
     "output_type": "stream",
     "text": [
      "Volunteer labeled data:\n",
      " Not Informative                        0.259547\n",
      "Not Relevant                           0.241723\n",
      "Not physical landslide                 0.143479\n",
      "Other Relevant Information             0.111872\n",
      "Response Efforts                       0.038266\n",
      "Physical landslide                     0.029412\n",
      "Other relevant information             0.021404\n",
      "Sympathy and emotional support         0.020981\n",
      "Not related or irrelevant              0.018363\n",
      "Informative                            0.017208\n",
      "Infrastructure Damage                  0.016400\n",
      "Humanitarian Aid Provided              0.012435\n",
      "Not related to crisis                  0.010625\n",
      "Other useful information               0.008238\n",
      "Caution and advice                     0.007314\n",
      "Infrastructure and utilities           0.005698\n",
      "Injured or dead people                 0.004427\n",
      "Urgent Needs                           0.004158\n",
      "Volunteer or professional services     0.002926\n",
      "Requests for Help/Needs                0.002733\n",
      "Personal updates, sympathy, support    0.002541\n",
      "No                                     0.002502\n",
      "Money                                  0.002425\n",
      "Injured and dead                       0.002348\n",
      "Missing, trapped, or found people      0.002271\n",
      "Personal only                          0.002002\n",
      "Personal updates                       0.001925\n",
      "Not informative                        0.001232\n",
      "Displaced people                       0.001116\n",
      "Shelter and supplies                   0.000962\n",
      "Praying                                0.000924\n",
      "Personal                               0.000693\n",
      "Infrastructure                         0.000654\n",
      "Yes                                    0.000654\n",
      "Infrastructure damage                  0.000115\n",
      "Donations of money                     0.000077\n",
      "Response efforts                       0.000077\n",
      "Other relevant                         0.000077\n",
      "Traditional media                      0.000038\n",
      "Non-government                         0.000038\n",
      "Needs of those affected                0.000038\n",
      "Not relevant                           0.000038\n",
      "Animal management                      0.000038\n",
      "Name: label, dtype: float64\n"
     ]
    }
   ],
   "source": [
    "# Volunteer labeled\n",
    "print(f\"Volunteer labeled data:\\n {all_data_volunteers['label'].value_counts(normalize=True)}\")"
   ]
  },
  {
   "attachments": {},
   "cell_type": "markdown",
   "metadata": {},
   "source": [
    "Comparing volunteer and paid labeled datset, the labels in paid dataset seemed to be more useful for disaster response prediction (eg \"injured_or_dead_people\", \"missing_trapped_or_found_people\"). While in volunteer dataset the labels are quite irrelevant (eg majority labels are \"Not informative\", \"Not relevant\", \"not physical landslide\" etc.). <br> <br>\n",
    "Now we map the labels in the dataset to 3 custom labels that will be predicted by our model: \"Disruption\", \"Potential Disruption\", or \"No Disruption\" <br><br>\n",
    "\n",
    "Disruption:\n",
    "1. `infrastructure_and_utilities_damage`: Damage to infrastructure/utilitise directly impacts supply chain, pretty self-explanatory\n",
    "2. `displaced_people_and_evacuations`: Could possibly imply a serious event that disrupt supply chains\n",
    "3. `affected_people`: A situatioin where large number of people being affected by a disaster could impact workforce availability and demand patterns\n",
    "4. `missing_trapped_or_found_people`: This would probably indicate a severe crisis such as earthquake that causes trapped/missing people\n",
    "5. `death_reports`: Reporting of deaths probably indicate severe disasters which could disrupt supply chain\n",
    "6. `injured_or_dead_people`\n",
    "\n",
    "\n",
    "\n",
    "Potential Disruption:\n",
    "1. `disease_transmission`: Depends on the widespread severity of the disease, so I put this in potential disruption category.\n",
    "2. `prevention`: Could indicates lockdown or restrictions which is indicative of supply chain disruption.\n",
    "3. `caution_and_advice`: If there's caution and advice given on incoming disaster, this could indicate a potential disruption.\n",
    "4. `disease_signs_or_symptoms`: Quite a vague label, but since its linked to disease so I'll put it into potential disruption.\n",
    "5. `donation_needs_or_offers_or_volunteering_services`: Most involve donations, volunteers, offers of help which could be indicative of an ongoing/potential disruption\n",
    "6. `treatment`: suggests actions needed to address a crisis. The tweet content contained a mixed of information, but it could potentially cause disruption due to a need in aid and assistance\n",
    "7. `other_useful_information`: I looked at the some tweet texts with this label and seemed like it contained a mix of information where some could be relevant to SP disruption, but some doesn't, but I will put this into disruption atm due to the natura of the crisis dataset\n",
    "\n",
    "No disruption:\n",
    "1. `not_related_or_irrelevant`\n",
    "2. `sympathy_and_emotional_support`: Focused on emotional support and solidarity, which doesn't directly indicate a disruption\n",
    "\n",
    "This also indicates that we will be building a multi-class classification model !"
   ]
  },
  {
   "attachments": {},
   "cell_type": "markdown",
   "metadata": {},
   "source": [
    "### Mapping labels to custom labels (Disruption, Potential Disruption, No disruption)"
   ]
  },
  {
   "cell_type": "code",
   "execution_count": 242,
   "metadata": {},
   "outputs": [],
   "source": [
    "def map_labels(original_labels):\n",
    "    disruption_labels = [\n",
    "        \"infrastructure_and_utilities_damage\", \"displaced_people_and_evacuations\",\n",
    "        \"affected_people\", \"missing_trapped_or_found_people\", \"death_reports\",\n",
    "        \"injured_or_dead_people\"\n",
    "    ]\n",
    "\n",
    "    potential_disruption_labels = [\n",
    "        \"disease_transmission\", \"prevention\", \"caution_and_advice\", \"disease_signs_or_symptoms\",\n",
    "        \"donation_needs_or_offers_or_volunteering services\", \"treatment\", \"other_useful_information\"\n",
    "    ]\n",
    "\n",
    "    if original_labels in disruption_labels:\n",
    "        return \"disruption\" \n",
    "    elif original_labels in potential_disruption_labels:\n",
    "        return \"potential_disruption\" \n",
    "    else:\n",
    "        return \"no_disruption\" \n",
    "    \n",
    "all_data_paid['custom_labels'] = all_data_paid['label'].apply(map_labels)"
   ]
  },
  {
   "cell_type": "code",
   "execution_count": 243,
   "metadata": {},
   "outputs": [
    {
     "data": {
      "text/html": [
       "<div>\n",
       "<style scoped>\n",
       "    .dataframe tbody tr th:only-of-type {\n",
       "        vertical-align: middle;\n",
       "    }\n",
       "\n",
       "    .dataframe tbody tr th {\n",
       "        vertical-align: top;\n",
       "    }\n",
       "\n",
       "    .dataframe thead th {\n",
       "        text-align: right;\n",
       "    }\n",
       "</style>\n",
       "<table border=\"1\" class=\"dataframe\">\n",
       "  <thead>\n",
       "    <tr style=\"text-align: right;\">\n",
       "      <th></th>\n",
       "      <th>tweet_id</th>\n",
       "      <th>tweet_text</th>\n",
       "      <th>label</th>\n",
       "      <th>custom_labels</th>\n",
       "    </tr>\n",
       "  </thead>\n",
       "  <tbody>\n",
       "    <tr>\n",
       "      <th>0</th>\n",
       "      <td>'592326564110585856'</td>\n",
       "      <td>RT @divyaconnects: Reached #Kathmandu finally!...</td>\n",
       "      <td>other_useful_information</td>\n",
       "      <td>potential_disruption</td>\n",
       "    </tr>\n",
       "    <tr>\n",
       "      <th>1</th>\n",
       "      <td>'592616512642420737'</td>\n",
       "      <td>fears for Foreigners missing in Nepal earthqua...</td>\n",
       "      <td>missing_trapped_or_found_people</td>\n",
       "      <td>disruption</td>\n",
       "    </tr>\n",
       "    <tr>\n",
       "      <th>2</th>\n",
       "      <td>'592686635520827393'</td>\n",
       "      <td>RT @ParisBurned: 3,700 people dead is absolute...</td>\n",
       "      <td>injured_or_dead_people</td>\n",
       "      <td>disruption</td>\n",
       "    </tr>\n",
       "    <tr>\n",
       "      <th>3</th>\n",
       "      <td>'593301431366635520'</td>\n",
       "      <td>Earthquake in Nepal - Please help Kapil #crowd...</td>\n",
       "      <td>donation_needs_or_offers_or_volunteering_services</td>\n",
       "      <td>no_disruption</td>\n",
       "    </tr>\n",
       "    <tr>\n",
       "      <th>4</th>\n",
       "      <td>'592590231519555584'</td>\n",
       "      <td>Nepal’s Slowing Economy Set for Freefall Witho...</td>\n",
       "      <td>other_useful_information</td>\n",
       "      <td>potential_disruption</td>\n",
       "    </tr>\n",
       "  </tbody>\n",
       "</table>\n",
       "</div>"
      ],
      "text/plain": [
       "               tweet_id                                         tweet_text  \\\n",
       "0  '592326564110585856'  RT @divyaconnects: Reached #Kathmandu finally!...   \n",
       "1  '592616512642420737'  fears for Foreigners missing in Nepal earthqua...   \n",
       "2  '592686635520827393'  RT @ParisBurned: 3,700 people dead is absolute...   \n",
       "3  '593301431366635520'  Earthquake in Nepal - Please help Kapil #crowd...   \n",
       "4  '592590231519555584'  Nepal’s Slowing Economy Set for Freefall Witho...   \n",
       "\n",
       "                                               label         custom_labels  \n",
       "0                           other_useful_information  potential_disruption  \n",
       "1                    missing_trapped_or_found_people            disruption  \n",
       "2                             injured_or_dead_people            disruption  \n",
       "3  donation_needs_or_offers_or_volunteering_services         no_disruption  \n",
       "4                           other_useful_information  potential_disruption  "
      ]
     },
     "execution_count": 243,
     "metadata": {},
     "output_type": "execute_result"
    }
   ],
   "source": [
    "all_data_paid.head()"
   ]
  },
  {
   "cell_type": "code",
   "execution_count": 244,
   "metadata": {},
   "outputs": [
    {
     "data": {
      "text/plain": [
       "potential_disruption    0.411524\n",
       "no_disruption           0.335576\n",
       "disruption              0.252900\n",
       "Name: custom_labels, dtype: float64"
      ]
     },
     "execution_count": 244,
     "metadata": {},
     "output_type": "execute_result"
    }
   ],
   "source": [
    "all_data_paid['custom_labels'].value_counts(normalize='True')"
   ]
  },
  {
   "attachments": {},
   "cell_type": "markdown",
   "metadata": {},
   "source": [
    "Not an imbalanced dataset as each custom labels seemed to have quite proportional number of samples"
   ]
  },
  {
   "attachments": {},
   "cell_type": "markdown",
   "metadata": {},
   "source": [
    "#### Text data exploration"
   ]
  },
  {
   "cell_type": "code",
   "execution_count": 245,
   "metadata": {},
   "outputs": [
    {
     "data": {
      "text/plain": [
       "Text(0, 0.5, 'Number of tweets')"
      ]
     },
     "execution_count": 245,
     "metadata": {},
     "output_type": "execute_result"
    },
    {
     "data": {
      "image/png": "[encoded data removed]",
      "text/plain": [
       "<Figure size 1200x600 with 1 Axes>"
      ]
     },
     "metadata": {},
     "output_type": "display_data"
    }
   ],
   "source": [
    "import matplotlib.pyplot as plt\n",
    "\n",
    "# Look at text length\n",
    "lengths_paid = all_data_paid['tweet_text'].apply(len)\n",
    "\n",
    "# Plot histograms\n",
    "plt.figure(figsize=(12,6))\n",
    "plt.hist(lengths_paid, bins=20, color='blue', alpha=0.7)\n",
    "plt.title('Histogram of tweets length (Paid dataset)')\n",
    "plt.xlabel('Length of tweet (characters)')\n",
    "plt.ylabel('Number of tweets')"
   ]
  },
  {
   "cell_type": "code",
   "execution_count": 246,
   "metadata": {},
   "outputs": [
    {
     "name": "stdout",
     "output_type": "stream",
     "text": [
      "Mean: 117.0183289460856\n",
      "Median: 130.0\n"
     ]
    }
   ],
   "source": [
    "print(f'Mean: {lengths_paid.mean()}')\n",
    "print(f'Median: {lengths_paid.median()}')"
   ]
  },
  {
   "attachments": {},
   "cell_type": "markdown",
   "metadata": {},
   "source": [
    "The lengths of tweet histogram are left-skewed as it has a median of tweets length is higher (130.0) than its mean(117), probably because twitter has a character length restriction of ~140 back then, it was changed to 280 chracters now just in case you didn't know."
   ]
  },
  {
   "cell_type": "code",
   "execution_count": 247,
   "metadata": {},
   "outputs": [],
   "source": [
    "import re\n",
    "import string\n",
    "\n",
    "# Check number of tweets with URL\n",
    "url_pattern = r'http[s]?://(?:[a-zA-Z]|[0-9]|[$-_@.&+]|[!*\\\\(\\\\),]|(?:%[0-9a-fA-F][0-9a-fA-F]))+'\n",
    "nums_url_paid = all_data_paid['tweet_text'].apply(lambda x: re.search(url_pattern, x) is not None).sum()\n",
    "nums_url_volunteers = all_data_volunteers[' tweet_text'].apply(lambda x: re.search(url_pattern, x) is not None).sum()\n",
    "\n",
    "# Check number of tweets with a user mention\n",
    "mention_pattern = r'@[A-Za-z0-9_]+'\n",
    "nums_mention_paid = all_data_paid['tweet_text'].apply(lambda x: re.search(mention_pattern, x) is not None).sum()\n",
    "nums_mention_volunteers = all_data_volunteers[' tweet_text'].apply(lambda x: re.search(mention_pattern, x) is not None).sum()\n",
    "\n",
    "# Number of tweets containing a hashtag\n",
    "hashtag_pattern = r'#[A-Za-z0-9_]+'\n",
    "nums_hashtag_paid = all_data_paid['tweet_text'].apply(lambda x: re.search(hashtag_pattern, x) is not None).sum()\n",
    "nums_hashtag_volunteers = all_data_volunteers[' tweet_text'].apply(lambda x: re.search(hashtag_pattern, x) is not None).sum()\n",
    "\n",
    "# Number of capital letters\n",
    "num_capital_paid = all_data_paid['tweet_text'].apply(lambda x: any(char.isupper() for char in x)).sum()\n",
    "num_capital_volunteer = all_data_volunteers[' tweet_text'].apply(lambda x: any(char.isupper() for char in x)).sum()\n",
    "\n",
    "# Number of punctuation\n",
    "num_punctuation_paid = all_data_paid['tweet_text'].apply(lambda x: any(char in string.punctuation for char in x)).sum()\n",
    "num_punctuation_volunteers = all_data_volunteers[' tweet_text'].apply(lambda x: any(char in string.punctuation for char in x)).sum()"
   ]
  },
  {
   "cell_type": "code",
   "execution_count": 248,
   "metadata": {},
   "outputs": [
    {
     "data": {
      "text/html": [
       "<div>\n",
       "<style scoped>\n",
       "    .dataframe tbody tr th:only-of-type {\n",
       "        vertical-align: middle;\n",
       "    }\n",
       "\n",
       "    .dataframe tbody tr th {\n",
       "        vertical-align: top;\n",
       "    }\n",
       "\n",
       "    .dataframe thead th {\n",
       "        text-align: right;\n",
       "    }\n",
       "</style>\n",
       "<table border=\"1\" class=\"dataframe\">\n",
       "  <thead>\n",
       "    <tr style=\"text-align: right;\">\n",
       "      <th></th>\n",
       "      <th>Dataset</th>\n",
       "      <th>Links</th>\n",
       "      <th>Mentions</th>\n",
       "      <th>Hashtag</th>\n",
       "      <th>Capitals</th>\n",
       "      <th>Punctuations</th>\n",
       "    </tr>\n",
       "  </thead>\n",
       "  <tbody>\n",
       "    <tr>\n",
       "      <th>0</th>\n",
       "      <td>Paid</td>\n",
       "      <td>12987</td>\n",
       "      <td>11443</td>\n",
       "      <td>12013</td>\n",
       "      <td>20403</td>\n",
       "      <td>20370</td>\n",
       "    </tr>\n",
       "    <tr>\n",
       "      <th>1</th>\n",
       "      <td>Volunteer</td>\n",
       "      <td>14703</td>\n",
       "      <td>6011</td>\n",
       "      <td>14053</td>\n",
       "      <td>25563</td>\n",
       "      <td>25358</td>\n",
       "    </tr>\n",
       "  </tbody>\n",
       "</table>\n",
       "</div>"
      ],
      "text/plain": [
       "     Dataset  Links  Mentions  Hashtag  Capitals  Punctuations\n",
       "0       Paid  12987     11443    12013     20403         20370\n",
       "1  Volunteer  14703      6011    14053     25563         25358"
      ]
     },
     "execution_count": 248,
     "metadata": {},
     "output_type": "execute_result"
    }
   ],
   "source": [
    "text_df = pd.DataFrame({\n",
    "    'Dataset': ['Paid', 'Volunteer'],\n",
    "    'Links': [nums_url_paid, nums_url_volunteers],\n",
    "    'Mentions': [nums_mention_paid, nums_mention_volunteers],\n",
    "    'Hashtag': [nums_hashtag_paid, nums_hashtag_volunteers],\n",
    "    'Capitals': [num_capital_paid, num_capital_volunteer],\n",
    "    'Punctuations': [num_punctuation_paid, num_punctuation_volunteers]\n",
    "})\n",
    "text_df"
   ]
  },
  {
   "attachments": {},
   "cell_type": "markdown",
   "metadata": {},
   "source": [
    "Volunteer dataset has more hashtag and links than paid dataset, while paid dataset has more mentions."
   ]
  },
  {
   "attachments": {},
   "cell_type": "markdown",
   "metadata": {},
   "source": [
    "### Data preprocessing"
   ]
  },
  {
   "attachments": {},
   "cell_type": "markdown",
   "metadata": {},
   "source": [
    "I am only going to use the paid dataset since the volunteer dataset has quite a lot of irrelevant labels, which could possibly affects the performance of our model"
   ]
  },
  {
   "cell_type": "code",
   "execution_count": 249,
   "metadata": {},
   "outputs": [],
   "source": [
    "import re\n",
    "import string\n",
    "\n",
    "# Remove URLs\n",
    "# They are not very informative for text classification tasks\n",
    "def remove_urls(text):\n",
    "    url_pattern = re.compile(r'http[s]?://(?:[a-zA-Z]|[0-9]|[$-_@.&+]|[!*\\\\(\\\\),]|(?:%[0-9a-fA-F][0-9a-fA-F]))+')\n",
    "    return url_pattern.sub(r'', text)\n",
    "\n",
    "all_data_paid['tweet_text'] = all_data_paid['tweet_text'].apply(remove_urls)\n",
    "\n",
    "# Lowercasing\n",
    "# Because the same words in difference cases can be processed differently by the machine \n",
    "all_data_paid['tweet_text'] = all_data_paid['tweet_text'].str.lower()\n",
    "\n",
    "# Remove punctuation\n",
    "# Provide less information for classification tasks\n",
    "def remove_punctuation(text):\n",
    "    return text.translate(str.maketrans('', '', string.punctuation))\n",
    "\n",
    "all_data_paid['tweet_text'] = all_data_paid['tweet_text'].apply(remove_punctuation)"
   ]
  },
  {
   "cell_type": "code",
   "execution_count": 250,
   "metadata": {},
   "outputs": [],
   "source": [
    "# Tokenization\n",
    "# Basically means splitting the text into individual words\n",
    "from nltk.tokenize import word_tokenize\n",
    "all_data_paid['tweet_text'] = all_data_paid['tweet_text'].astype(str)\n",
    "all_data_paid['tweet_text'] = all_data_paid['tweet_text'].apply(word_tokenize)\n",
    "\n",
    "# Remove stopwords\n",
    "# Like (\"a\", \"the\", \"and\" etc.)\n",
    "from nltk.corpus import stopwords\n",
    "stop_words = set(stopwords.words('english'))\n",
    "\n",
    "def remove_stopwords(text):\n",
    "    return [word for word in text if word not in stop_words]\n",
    "\n",
    "all_data_paid['tweet_text'] = all_data_paid['tweet_text'].apply(remove_stopwords)\n",
    "\n",
    "# Lemmatization \n",
    "# Reducing words to their word stem or root form\n",
    "from nltk.stem import WordNetLemmatizer\n",
    "\n",
    "lemmatizer = WordNetLemmatizer()\n",
    "\n",
    "def lemmatize_text(text):\n",
    "    return [lemmatizer.lemmatize(word) for word in text]\n",
    "\n",
    "all_data_paid['tweet_text'] = all_data_paid['tweet_text'].apply(lemmatize_text)"
   ]
  },
  {
   "cell_type": "code",
   "execution_count": 251,
   "metadata": {},
   "outputs": [
    {
     "data": {
      "text/html": [
       "<div>\n",
       "<style scoped>\n",
       "    .dataframe tbody tr th:only-of-type {\n",
       "        vertical-align: middle;\n",
       "    }\n",
       "\n",
       "    .dataframe tbody tr th {\n",
       "        vertical-align: top;\n",
       "    }\n",
       "\n",
       "    .dataframe thead th {\n",
       "        text-align: right;\n",
       "    }\n",
       "</style>\n",
       "<table border=\"1\" class=\"dataframe\">\n",
       "  <thead>\n",
       "    <tr style=\"text-align: right;\">\n",
       "      <th></th>\n",
       "      <th>tweet_id</th>\n",
       "      <th>tweet_text</th>\n",
       "      <th>label</th>\n",
       "      <th>custom_labels</th>\n",
       "    </tr>\n",
       "  </thead>\n",
       "  <tbody>\n",
       "    <tr>\n",
       "      <th>0</th>\n",
       "      <td>'592326564110585856'</td>\n",
       "      <td>[rt, divyaconnects, reached, kathmandu, finall...</td>\n",
       "      <td>other_useful_information</td>\n",
       "      <td>potential_disruption</td>\n",
       "    </tr>\n",
       "    <tr>\n",
       "      <th>1</th>\n",
       "      <td>'592616512642420737'</td>\n",
       "      <td>[fear, foreigner, missing, nepal, earthquake, ...</td>\n",
       "      <td>missing_trapped_or_found_people</td>\n",
       "      <td>disruption</td>\n",
       "    </tr>\n",
       "    <tr>\n",
       "      <th>2</th>\n",
       "      <td>'592686635520827393'</td>\n",
       "      <td>[rt, parisburned, 3700, people, dead, absolute...</td>\n",
       "      <td>injured_or_dead_people</td>\n",
       "      <td>disruption</td>\n",
       "    </tr>\n",
       "    <tr>\n",
       "      <th>3</th>\n",
       "      <td>'593301431366635520'</td>\n",
       "      <td>[earthquake, nepal, please, help, kapil, crowd...</td>\n",
       "      <td>donation_needs_or_offers_or_volunteering_services</td>\n",
       "      <td>no_disruption</td>\n",
       "    </tr>\n",
       "    <tr>\n",
       "      <th>4</th>\n",
       "      <td>'592590231519555584'</td>\n",
       "      <td>[nepal, ’, slowing, economy, set, freefall, wi...</td>\n",
       "      <td>other_useful_information</td>\n",
       "      <td>potential_disruption</td>\n",
       "    </tr>\n",
       "  </tbody>\n",
       "</table>\n",
       "</div>"
      ],
      "text/plain": [
       "               tweet_id                                         tweet_text  \\\n",
       "0  '592326564110585856'  [rt, divyaconnects, reached, kathmandu, finall...   \n",
       "1  '592616512642420737'  [fear, foreigner, missing, nepal, earthquake, ...   \n",
       "2  '592686635520827393'  [rt, parisburned, 3700, people, dead, absolute...   \n",
       "3  '593301431366635520'  [earthquake, nepal, please, help, kapil, crowd...   \n",
       "4  '592590231519555584'  [nepal, ’, slowing, economy, set, freefall, wi...   \n",
       "\n",
       "                                               label         custom_labels  \n",
       "0                           other_useful_information  potential_disruption  \n",
       "1                    missing_trapped_or_found_people            disruption  \n",
       "2                             injured_or_dead_people            disruption  \n",
       "3  donation_needs_or_offers_or_volunteering_services         no_disruption  \n",
       "4                           other_useful_information  potential_disruption  "
      ]
     },
     "execution_count": 251,
     "metadata": {},
     "output_type": "execute_result"
    }
   ],
   "source": [
    "all_data_paid.head()"
   ]
  },
  {
   "attachments": {},
   "cell_type": "markdown",
   "metadata": {},
   "source": [
    "### Text Vectorization"
   ]
  },
  {
   "attachments": {},
   "cell_type": "markdown",
   "metadata": {},
   "source": [
    "Vectorization words into a format that can be understood by machine learning model. We will be using TF-IDF which not only counts the occurence of the words but also its importance based on the whole dataset"
   ]
  },
  {
   "cell_type": "code",
   "execution_count": 252,
   "metadata": {},
   "outputs": [],
   "source": [
    "from sklearn.feature_extraction.text import TfidfVectorizer\n",
    "\n",
    "vectorizer = TfidfVectorizer()\n",
    "\n",
    "# Join back the words into a string\n",
    "all_data_paid['tweet_text'] = all_data_paid['tweet_text'].apply(\" \".join)\n",
    "\n",
    "# Fit to data and tarnsform\n",
    "X = vectorizer.fit_transform(all_data_paid['tweet_text'])"
   ]
  },
  {
   "attachments": {},
   "cell_type": "markdown",
   "metadata": {},
   "source": [
    "### Model Training"
   ]
  },
  {
   "cell_type": "code",
   "execution_count": 253,
   "metadata": {},
   "outputs": [],
   "source": [
    "from sklearn.model_selection import train_test_split\n",
    "\n",
    "# Train-test split (80%-20%)\n",
    "X_train, X_test, y_train, y_test = train_test_split(X, all_data_paid['custom_labels'], test_size=0.2, random_state=42)"
   ]
  },
  {
   "attachments": {},
   "cell_type": "markdown",
   "metadata": {},
   "source": [
    "#### Logistic Regression"
   ]
  },
  {
   "cell_type": "code",
   "execution_count": 265,
   "metadata": {},
   "outputs": [
    {
     "data": {
      "text/html": [
       "<style>#sk-container-id-10 {color: black;background-color: white;}#sk-container-id-10 pre{padding: 0;}#sk-container-id-10 div.sk-toggleable {background-color: white;}#sk-container-id-10 label.sk-toggleable__label {cursor: pointer;display: block;width: 100%;margin-bottom: 0;padding: 0.3em;box-sizing: border-box;text-align: center;}#sk-container-id-10 label.sk-toggleable__label-arrow:before {content: \"▸\";float: left;margin-right: 0.25em;color: #696969;}#sk-container-id-10 label.sk-toggleable__label-arrow:hover:before {color: black;}#sk-container-id-10 div.sk-estimator:hover label.sk-toggleable__label-arrow:before {color: black;}#sk-container-id-10 div.sk-toggleable__content {max-height: 0;max-width: 0;overflow: hidden;text-align: left;background-color: #f0f8ff;}#sk-container-id-10 div.sk-toggleable__content pre {margin: 0.2em;color: black;border-radius: 0.25em;background-color: #f0f8ff;}#sk-container-id-10 input.sk-toggleable__control:checked~div.sk-toggleable__content {max-height: 200px;max-width: 100%;overflow: auto;}#sk-container-id-10 input.sk-toggleable__control:checked~label.sk-toggleable__label-arrow:before {content: \"▾\";}#sk-container-id-10 div.sk-estimator input.sk-toggleable__control:checked~label.sk-toggleable__label {background-color: #d4ebff;}#sk-container-id-10 div.sk-label input.sk-toggleable__control:checked~label.sk-toggleable__label {background-color: #d4ebff;}#sk-container-id-10 input.sk-hidden--visually {border: 0;clip: rect(1px 1px 1px 1px);clip: rect(1px, 1px, 1px, 1px);height: 1px;margin: -1px;overflow: hidden;padding: 0;position: absolute;width: 1px;}#sk-container-id-10 div.sk-estimator {font-family: monospace;background-color: #f0f8ff;border: 1px dotted black;border-radius: 0.25em;box-sizing: border-box;margin-bottom: 0.5em;}#sk-container-id-10 div.sk-estimator:hover {background-color: #d4ebff;}#sk-container-id-10 div.sk-parallel-item::after {content: \"\";width: 100%;border-bottom: 1px solid gray;flex-grow: 1;}#sk-container-id-10 div.sk-label:hover label.sk-toggleable__label {background-color: #d4ebff;}#sk-container-id-10 div.sk-serial::before {content: \"\";position: absolute;border-left: 1px solid gray;box-sizing: border-box;top: 0;bottom: 0;left: 50%;z-index: 0;}#sk-container-id-10 div.sk-serial {display: flex;flex-direction: column;align-items: center;background-color: white;padding-right: 0.2em;padding-left: 0.2em;position: relative;}#sk-container-id-10 div.sk-item {position: relative;z-index: 1;}#sk-container-id-10 div.sk-parallel {display: flex;align-items: stretch;justify-content: center;background-color: white;position: relative;}#sk-container-id-10 div.sk-item::before, #sk-container-id-10 div.sk-parallel-item::before {content: \"\";position: absolute;border-left: 1px solid gray;box-sizing: border-box;top: 0;bottom: 0;left: 50%;z-index: -1;}#sk-container-id-10 div.sk-parallel-item {display: flex;flex-direction: column;z-index: 1;position: relative;background-color: white;}#sk-container-id-10 div.sk-parallel-item:first-child::after {align-self: flex-end;width: 50%;}#sk-container-id-10 div.sk-parallel-item:last-child::after {align-self: flex-start;width: 50%;}#sk-container-id-10 div.sk-parallel-item:only-child::after {width: 0;}#sk-container-id-10 div.sk-dashed-wrapped {border: 1px dashed gray;margin: 0 0.4em 0.5em 0.4em;box-sizing: border-box;padding-bottom: 0.4em;background-color: white;}#sk-container-id-10 div.sk-label label {font-family: monospace;font-weight: bold;display: inline-block;line-height: 1.2em;}#sk-container-id-10 div.sk-label-container {text-align: center;}#sk-container-id-10 div.sk-container {/* jupyter's `normalize.less` sets `[hidden] { display: none; }` but bootstrap.min.css set `[hidden] { display: none !important; }` so we also need the `!important` here to be able to override the default hidden behavior on the sphinx rendered scikit-learn.org. See: https://github.com/scikit-learn/scikit-learn/issues/21755 */display: inline-block !important;position: relative;}#sk-container-id-10 div.sk-text-repr-fallback {display: none;}</style><div id=\"sk-container-id-10\" class=\"sk-top-container\"><div class=\"sk-text-repr-fallback\"><pre>LogisticRegression(solver=&#x27;saga&#x27;)</pre><b>In a Jupyter environment, please rerun this cell to show the HTML representation or trust the notebook. <br />On GitHub, the HTML representation is unable to render, please try loading this page with nbviewer.org.</b></div><div class=\"sk-container\" hidden><div class=\"sk-item\"><div class=\"sk-estimator sk-toggleable\"><input class=\"sk-toggleable__control sk-hidden--visually\" id=\"sk-estimator-id-10\" type=\"checkbox\" checked><label for=\"sk-estimator-id-10\" class=\"sk-toggleable__label sk-toggleable__label-arrow\">LogisticRegression</label><div class=\"sk-toggleable__content\"><pre>LogisticRegression(solver=&#x27;saga&#x27;)</pre></div></div></div></div></div>"
      ],
      "text/plain": [
       "LogisticRegression(solver='saga')"
      ]
     },
     "execution_count": 265,
     "metadata": {},
     "output_type": "execute_result"
    }
   ],
   "source": [
    "from sklearn.linear_model import LogisticRegression\n",
    "\n",
    "model = LogisticRegression(solver='saga')\n",
    "\n",
    "# Train \n",
    "model.fit(X_train, y_train)"
   ]
  },
  {
   "cell_type": "code",
   "execution_count": 266,
   "metadata": {},
   "outputs": [
    {
     "name": "stdout",
     "output_type": "stream",
     "text": [
      "Classification report:\n",
      "                      precision    recall  f1-score   support\n",
      "\n",
      "          disruption       0.86      0.74      0.79      1108\n",
      "       no_disruption       0.80      0.82      0.81      1346\n",
      "potential_disruption       0.78      0.83      0.80      1649\n",
      "\n",
      "            accuracy                           0.80      4103\n",
      "           macro avg       0.81      0.80      0.80      4103\n",
      "        weighted avg       0.81      0.80      0.80      4103\n",
      "\n"
     ]
    }
   ],
   "source": [
    "from sklearn.metrics import classification_report\n",
    "from sklearn.metrics import confusion_matrix\n",
    "from sklearn.metrics import accuracy_score\n",
    "\n",
    "# Evaluate\n",
    "y_pred = model.predict(X_test)\n",
    "\n",
    "# Use other metrics such as F1-score / AUC-ROC since the our target prediction (labels) counts are imbalanced\n",
    "report = classification_report(y_test, y_pred)\n",
    "print(f\"Classification report:\\n{report}\")"
   ]
  },
  {
   "attachments": {},
   "cell_type": "markdown",
   "metadata": {},
   "source": [
    "Performed quite well in general, but one thing that's dissapointing is that it has a recall of 0.74, which is relatively low compare to other classes, which also means it won't catch all the actual disruptions"
   ]
  },
  {
   "cell_type": "code",
   "execution_count": 258,
   "metadata": {},
   "outputs": [
    {
     "data": {
      "image/png": "[encoded data removed]",
      "text/plain": [
       "<Figure size 800x600 with 2 Axes>"
      ]
     },
     "metadata": {},
     "output_type": "display_data"
    }
   ],
   "source": [
    "from sklearn.metrics import confusion_matrix\n",
    "import seaborn as sns\n",
    "import matplotlib.pyplot as plt\n",
    "\n",
    "# Look at confusion matrix\n",
    "cm = confusion_matrix(y_test, y_pred)\n",
    "\n",
    "# Create a heatmap\n",
    "plt.figure(figsize=(8, 6))\n",
    "sns.heatmap(cm, annot=True, fmt=\".0f\", linewidths=.5, square = True, cmap = 'Blues');\n",
    "plt.ylabel('Actual Label')\n",
    "plt.xlabel('Predicted Label')\n",
    "plt.title('Confusion Matrix', size=15)\n",
    "plt.show()"
   ]
  },
  {
   "attachments": {},
   "cell_type": "markdown",
   "metadata": {},
   "source": [
    "#### Decision Tree"
   ]
  },
  {
   "cell_type": "code",
   "execution_count": 259,
   "metadata": {},
   "outputs": [
    {
     "name": "stdout",
     "output_type": "stream",
     "text": [
      "                      precision    recall  f1-score   support\n",
      "\n",
      "potential_disruption       0.75      0.71      0.73      1108\n",
      "          disruption       0.73      0.74      0.74      1346\n",
      "       no_disruption       0.72      0.74      0.73      1649\n",
      "\n",
      "            accuracy                           0.73      4103\n",
      "           macro avg       0.73      0.73      0.73      4103\n",
      "        weighted avg       0.73      0.73      0.73      4103\n",
      "\n"
     ]
    }
   ],
   "source": [
    "from sklearn.tree import DecisionTreeClassifier\n",
    "\n",
    "tree_model = DecisionTreeClassifier(random_state=42)\n",
    "\n",
    "# Fit the model to the training data\n",
    "tree_model.fit(X_train, y_train)\n",
    "\n",
    "# Predict\n",
    "y_pred_tree = tree_model.predict(X_test)\n",
    "\n",
    "# Print the classification report\n",
    "print(classification_report(y_test, y_pred_tree, target_names=all_data_paid['custom_labels'].unique()))"
   ]
  },
  {
   "attachments": {},
   "cell_type": "markdown",
   "metadata": {},
   "source": [
    "It seemed to me decision tree classifier performed worse than decision tree, so I didn't bother with doing any hyperparameter tuning with this model"
   ]
  },
  {
   "attachments": {},
   "cell_type": "markdown",
   "metadata": {},
   "source": [
    "#### Support Vector Machine "
   ]
  },
  {
   "cell_type": "code",
   "execution_count": 260,
   "metadata": {},
   "outputs": [
    {
     "name": "stdout",
     "output_type": "stream",
     "text": [
      "                      precision    recall  f1-score   support\n",
      "\n",
      "          disruption       0.86      0.74      0.79      1108\n",
      "       no_disruption       0.78      0.84      0.81      1346\n",
      "potential_disruption       0.79      0.82      0.80      1649\n",
      "\n",
      "            accuracy                           0.80      4103\n",
      "           macro avg       0.81      0.80      0.80      4103\n",
      "        weighted avg       0.81      0.80      0.80      4103\n",
      "\n"
     ]
    }
   ],
   "source": [
    "from sklearn import svm\n",
    "\n",
    "clf = svm.SVC()\n",
    "clf.fit(X_train, y_train)\n",
    "\n",
    "# Predict\n",
    "y_pred_svm = clf.predict(X_test)\n",
    "\n",
    "# Classification_report\n",
    "print(classification_report(y_test, y_pred_svm))"
   ]
  },
  {
   "attachments": {},
   "cell_type": "markdown",
   "metadata": {},
   "source": [
    "### Gradient Boosting"
   ]
  },
  {
   "cell_type": "code",
   "execution_count": 267,
   "metadata": {},
   "outputs": [
    {
     "name": "stdout",
     "output_type": "stream",
     "text": [
      "Classification Report:\n",
      "                      precision    recall  f1-score   support\n",
      "\n",
      "          disruption       0.84      0.67      0.75      1108\n",
      "       no_disruption       0.77      0.77      0.77      1346\n",
      "potential_disruption       0.73      0.82      0.77      1649\n",
      "\n",
      "            accuracy                           0.76      4103\n",
      "           macro avg       0.78      0.75      0.76      4103\n",
      "        weighted avg       0.77      0.76      0.76      4103\n",
      "\n"
     ]
    }
   ],
   "source": [
    "from sklearn.ensemble import GradientBoostingClassifier\n",
    "\n",
    "# Initialize model\n",
    "gbc = GradientBoostingClassifier(random_state=42)\n",
    "\n",
    "# Fit\n",
    "gbc.fit(X_train, y_train)\n",
    "y_pred_gbc = gbc.predict(X_test)\n",
    "\n",
    "# Evaluate\n",
    "print(\"Classification Report:\")\n",
    "print(classification_report(y_test, y_pred_gbc))"
   ]
  },
  {
   "attachments": {},
   "cell_type": "markdown",
   "metadata": {},
   "source": [
    "### Conclusion"
   ]
  },
  {
   "attachments": {},
   "cell_type": "markdown",
   "metadata": {},
   "source": [
    "So far it seemed that I would prefer Logistic Regression over the other 2 models as it took lesser time to train and offer results better than Decision Tree and on par with SVM. \n",
    "I will use the model and see how well it performs for my case studies first, then decide if any follow-up such as hyperparameter tuning, more feature engineering is needed."
   ]
  },
  {
   "cell_type": "code",
   "execution_count": 268,
   "metadata": {},
   "outputs": [
    {
     "data": {
      "text/plain": [
       "['model.joblib']"
      ]
     },
     "execution_count": 268,
     "metadata": {},
     "output_type": "execute_result"
    }
   ],
   "source": [
    "from joblib import dump \n",
    "\n",
    "# save vectorizer\n",
    "dump(vectorizer, \"vectorizer.pk1\")\n",
    "\n",
    "# model saving \n",
    "dump(model, 'model.joblib')"
   ]
  }
 ],
 "metadata": {
  "kernelspec": {
   "display_name": "Python 3",
   "language": "python",
   "name": "python3"
  },
  "language_info": {
   "codemirror_mode": {
    "name": "ipython",
    "version": 3
   },
   "file_extension": ".py",
   "mimetype": "text/x-python",
   "name": "python",
   "nbconvert_exporter": "python",
   "pygments_lexer": "ipython3",
   "version": "3.10.9"
  },
  "orig_nbformat": 4
 },
 "nbformat": 4,
 "nbformat_minor": 2
}
